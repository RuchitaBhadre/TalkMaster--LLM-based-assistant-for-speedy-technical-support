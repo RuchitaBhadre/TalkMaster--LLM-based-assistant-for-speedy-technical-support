{
 "cells": [
  {
   "cell_type": "code",
   "execution_count": null,
   "id": "f7eb9e58",
   "metadata": {},
   "outputs": [],
   "source": [
    "import pandas as pd\n",
    "import os\n",
    "\n",
    "# Specify the folder containing your Excel files\n",
    "input_folder_path = 'path_to_folder_containing_excel_files'\n",
    "\n",
    "# Specify the folder where you want to save the consolidated files\n",
    "output_folder_path = 'path_to_output_folder'\n",
    "\n",
    "# Get a list of all Excel files in the input folder\n",
    "excel_files = [file for file in os.listdir(input_folder_path) if file.endswith('.xlsx')]\n",
    "\n",
    "# Create an empty DataFrame to store consolidated data across all files\n",
    "all_data = pd.DataFrame() \n",
    "\n",
    "# Loop through each Excel file\n",
    "for file in excel_files:\n",
    "    file_path = os.path.join(input_folder_path, file)\n",
    "    \n",
    "    # Read all sheets from the Excel file into a dictionary of DataFrames\n",
    "    all_sheets = pd.read_excel(file_path, sheet_name=None)\n",
    "    \n",
    "    # Concatenate all sheets into a single DataFrame\n",
    "    file_data = pd.concat(all_sheets.values(), ignore_index=True)\n",
    "    \n",
    "    # Append the data from the current file to the overall consolidated DataFrame\n",
    "    all_data = pd.concat([all_data, file_data], ignore_index=True)\n",
    "\n",
    "# Save the consolidated data to a new Excel file in the output folder\n",
    "output_file_path = os.path.join(output_folder_path, 'consolidated_data_all_sheets.xlsx')\n",
    "all_data.to_excel(output_file_path, index=False)"
   ]
  }
 ],
 "metadata": {
  "kernelspec": {
   "display_name": "Python 3 (ipykernel)",
   "language": "python",
   "name": "python3"
  },
  "language_info": {
   "codemirror_mode": {
    "name": "ipython",
    "version": 3
   },
   "file_extension": ".py",
   "mimetype": "text/x-python",
   "name": "python",
   "nbconvert_exporter": "python",
   "pygments_lexer": "ipython3",
   "version": "3.10.13"
  }
 },
 "nbformat": 4,
 "nbformat_minor": 5
}
